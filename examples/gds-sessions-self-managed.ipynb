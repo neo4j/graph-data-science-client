{
 "cells": [
  {
   "cell_type": "markdown",
   "metadata": {
    "tags": [
     "aura"
    ]
   },
   "source": [
    "# GDS Sessions for Self-Managed Neo4j DB"
   ]
  },
  {
   "cell_type": "markdown",
   "metadata": {
    "colab_type": "text"
   },
   "source": [
    "<a target=\"_blank\" href=\"https://colab.research.google.com/github/neo4j/graph-data-science-client/blob/main/examples/gds-sessions-self-managed.ipynb\">\n",
    "  <img src=\"https://colab.research.google.com/assets/colab-badge.svg\" alt=\"Open In Colab\"/>\n",
    "</a>"
   ]
  },
  {
   "cell_type": "markdown",
   "metadata": {},
   "source": [
    "This Jupyter notebook is hosted [here](https://github.com/neo4j/graph-data-science-client/blob/main/examples/gds-sessions-self-managed.ipynb) in the Neo4j Graph Data Science Client Github repository.\n",
    "\n",
    "The notebook shows how to use the `graphdatascience` Python library to create, manage, and use a GDS Session.\n",
    "\n",
    "We consider a graph of people and fruits, which we're using as a simple example to show how to connect your self-managed Neo4j database to a GDS Session, run algorithms, and eventually write back your analytical results to your Neo4j database. \n",
    "We will cover all management operations: creation, listing, and deletion.\n",
    "\n",
    "If you are using AuraDB, follow [this example](../gds-sessions)."
   ]
  },
  {
   "cell_type": "markdown",
   "metadata": {},
   "source": [
    "## Prerequisites\n",
    "\n",
    "This notebook requires having a Neo4j instance instance available and that the GDS sessions feature is enabled for your Neo4j Aura project. \n",
    "Contact your account manager to get the features enabled. \n",
    "\n",
    "We also need to have the `graphdatascience` Python library installed, version `1.15` or later."
   ]
  },
  {
   "cell_type": "code",
   "execution_count": null,
   "metadata": {
    "tags": [
     "verify-version"
    ]
   },
   "outputs": [],
   "source": [
    "%pip install \"graphdatascience>=1.15a1\""
   ]
  },
  {
   "cell_type": "markdown",
   "metadata": {},
   "source": [
    "## Aura API credentials\n",
    "\n",
    "A GDS Session is managed via the Aura API.\n",
    "In order to use the Aura API, we need to have [Aura API credentialsn](https://neo4j.com/docs/aura/platform/api/authentication/#_creating_credentials).\n",
    "\n",
    "Using these credentials, we can create our `GdsSessions` object, which is the main entry point for managing GDS Sessions."
   ]
  },
  {
   "cell_type": "code",
   "execution_count": null,
   "metadata": {},
   "outputs": [],
   "source": [
    "import os\n",
    "\n",
    "from graphdatascience.session import AuraAPICredentials, GdsSessions\n",
    "\n",
    "client_id = os.environ[\"AURA_API_CLIENT_ID\"]\n",
    "client_secret = os.environ[\"AURA_API_CLIENT_SECRET\"]\n",
    "\n",
    "# If your account is a member of several projects, you must also specify the project ID to use\n",
    "project_id = os.environ.get(\"AURA_API_PROJECT_ID\", None)\n",
    "\n",
    "sessions = GdsSessions(api_credentials=AuraAPICredentials(client_id, client_secret, project_id=project_id))"
   ]
  },
  {
   "cell_type": "markdown",
   "metadata": {},
   "source": [
    "## Creating a new session\n",
    "\n",
    "A new session is created by calling `sessions.get_or_create()`.\n",
    "As the data source, we assume that a self-managed Neo4j DBMS instance has been set up and is accessible.\n",
    "We need to pass the database address, user name and password to the `DbmsConnectionInfo` class.\n",
    "\n",
    "We also need to specify the session size.\n",
    "Please refer to the API reference documentation or the manual for a full list.\n",
    "\n",
    "Finally, we need to give our session a name.\n",
    "We will call ours `people-and-fruits-sm'.\n",
    "It is possible to reconnect to an existing session by calling `get_or_create` with the same session name and configuration.\n",
    "\n",
    "We will also set a time-to-live (TTL) for the session. \n",
    "This ensures that our session is automatically deleted after being unused for 30 minutes.\n",
    "This is a good practice to avoid incurring costs should we forget to delete the session ourselves."
   ]
  },
  {
   "cell_type": "code",
   "execution_count": null,
   "metadata": {},
   "outputs": [],
   "source": [
    "from graphdatascience.session import AlgorithmCategory, SessionMemory\n",
    "\n",
    "# Explicitly define the size of the session\n",
    "memory = SessionMemory.m_8GB\n",
    "\n",
    "# Estimate the memory needed for the GDS session\n",
    "memory = sessions.estimate(\n",
    "    node_count=20,\n",
    "    relationship_count=50,\n",
    "    algorithm_categories=[AlgorithmCategory.CENTRALITY, AlgorithmCategory.NODE_EMBEDDING],\n",
    ")\n",
    "\n",
    "print(f\"Estimated memory: {memory}\")\n",
    "\n",
    "# Find out and specify where to create the GDS session\n",
    "cloud_locations = sessions.available_cloud_locations()\n",
    "print(f\"Available locations: {cloud_locations}\")\n",
    "cloud_location = cloud_locations[0]"
   ]
  },
  {
   "cell_type": "code",
   "execution_count": null,
   "metadata": {},
   "outputs": [],
   "source": [
    "import os\n",
    "from datetime import timedelta\n",
    "\n",
    "from graphdatascience.session import DbmsConnectionInfo\n",
    "\n",
    "# Identify the Neo4j DBMS\n",
    "db_connection = DbmsConnectionInfo(\n",
    "    uri=os.environ[\"NEO4J_URI\"], username=os.environ[\"NEO4J_USER\"], password=os.environ[\"NEO4J_PASSWORD\"]\n",
    ")\n",
    "\n",
    "# Create a GDS session!\n",
    "gds = sessions.get_or_create(\n",
    "    # we give it a representative name\n",
    "    session_name=\"people-and-fruits-sm\",\n",
    "    memory=memory,\n",
    "    db_connection=db_connection,\n",
    "    ttl=timedelta(minutes=30),\n",
    "    cloud_location=cloud_location,\n",
    ")"
   ]
  },
  {
   "cell_type": "markdown",
   "metadata": {},
   "source": [
    "## Listing sessions\n",
    "\n",
    "Now that we have created a session, let's list all our sessions to see what that looks like"
   ]
  },
  {
   "cell_type": "code",
   "execution_count": null,
   "metadata": {},
   "outputs": [],
   "source": [
    "from pandas import DataFrame\n",
    "\n",
    "gds_sessions = sessions.list()\n",
    "\n",
    "# for better visualization\n",
    "DataFrame(gds_sessions)"
   ]
  },
  {
   "cell_type": "markdown",
   "metadata": {},
   "source": [
    "## Adding a dataset\n",
    "\n",
    "We assume that the configured Neo4j database instance is empty.\n",
    "We will add our dataset using standard Cypher.\n",
    "\n",
    "In a more realistic scenario, this step is already done, and we would just connect to the existing database."
   ]
  },
  {
   "cell_type": "code",
   "execution_count": null,
   "metadata": {},
   "outputs": [],
   "source": [
    "data_query = \"\"\"\n",
    "  CREATE\n",
    "    (dan:Person {name: 'Dan',     age: 18, experience: 63, hipster: 0}),\n",
    "    (annie:Person {name: 'Annie', age: 12, experience: 5, hipster: 0}),\n",
    "    (matt:Person {name: 'Matt',   age: 22, experience: 42, hipster: 0}),\n",
    "    (jeff:Person {name: 'Jeff',   age: 51, experience: 12, hipster: 0}),\n",
    "    (brie:Person {name: 'Brie',   age: 31, experience: 6, hipster: 0}),\n",
    "    (elsa:Person {name: 'Elsa',   age: 65, experience: 23, hipster: 1}),\n",
    "    (john:Person {name: 'John',   age: 4, experience: 100, hipster: 0}),\n",
    "\n",
    "    (apple:Fruit {name: 'Apple',   tropical: 0, sourness: 0.3, sweetness: 0.6}),\n",
    "    (banana:Fruit {name: 'Banana', tropical: 1, sourness: 0.1, sweetness: 0.9}),\n",
    "    (mango:Fruit {name: 'Mango',   tropical: 1, sourness: 0.3, sweetness: 1.0}),\n",
    "    (plum:Fruit {name: 'Plum',     tropical: 0, sourness: 0.5, sweetness: 0.8})\n",
    "\n",
    "  CREATE\n",
    "    (dan)-[:LIKES]->(apple),\n",
    "    (annie)-[:LIKES]->(banana),\n",
    "    (matt)-[:LIKES]->(mango),\n",
    "    (jeff)-[:LIKES]->(mango),\n",
    "    (brie)-[:LIKES]->(banana),\n",
    "    (elsa)-[:LIKES]->(plum),\n",
    "    (john)-[:LIKES]->(plum),\n",
    "\n",
    "    (dan)-[:KNOWS]->(annie),\n",
    "    (dan)-[:KNOWS]->(matt),\n",
    "    (annie)-[:KNOWS]->(matt),\n",
    "    (annie)-[:KNOWS]->(jeff),\n",
    "    (annie)-[:KNOWS]->(brie),\n",
    "    (matt)-[:KNOWS]->(brie),\n",
    "    (brie)-[:KNOWS]->(elsa),\n",
    "    (brie)-[:KNOWS]->(jeff),\n",
    "    (john)-[:KNOWS]->(jeff);\n",
    "\"\"\"\n",
    "\n",
    "# making sure the database is actually empty\n",
    "assert gds.run_cypher(\"MATCH (n) RETURN count(n)\").squeeze() == 0, \"Database is not empty!\"\n",
    "\n",
    "# let's now write our graph!\n",
    "gds.run_cypher(data_query)\n",
    "\n",
    "gds.run_cypher(\"MATCH (n) RETURN count(n) AS nodeCount\")"
   ]
  },
  {
   "cell_type": "markdown",
   "metadata": {},
   "source": [
    "## Projecting Graphs\n",
    "\n",
    "Now that we have imported a graph to our database, we can project it into our GDS Session.\n",
    "We do that by using the `gds.graph.project()` endpoint.\n",
    "\n",
    "The remote projection query that we are using selects all `Person` nodes and their `LIKES` relationships, and all `Fruit` nodes and their `LIKES` relationships.\n",
    "Additionally, we project node properties for illustrative purposes.\n",
    "We can use these node properties as input to algorithms, although we do not do that in this notebook."
   ]
  },
  {
   "cell_type": "code",
   "execution_count": null,
   "metadata": {},
   "outputs": [],
   "source": [
    "G, result = gds.graph.project(\n",
    "    \"people-and-fruits\",\n",
    "    \"\"\"\n",
    "    CALL {\n",
    "        MATCH (p1:Person)\n",
    "        OPTIONAL MATCH (p1)-[r:KNOWS]->(p2:Person)\n",
    "        RETURN\n",
    "          p1 AS source, r AS rel, p2 AS target,\n",
    "          p1 {.age, .experience, .hipster } AS sourceNodeProperties,\n",
    "          p2 {.age, .experience, .hipster } AS targetNodeProperties\n",
    "        UNION\n",
    "        MATCH (f:Fruit)\n",
    "        OPTIONAL MATCH (f)<-[r:LIKES]-(p:Person)\n",
    "        RETURN\n",
    "          p AS source, r AS rel, f AS target,\n",
    "          p {.age, .experience, .hipster } AS sourceNodeProperties,\n",
    "          f { .tropical, .sourness, .sweetness } AS targetNodeProperties\n",
    "    }\n",
    "    RETURN gds.graph.project.remote(source, target, {\n",
    "      sourceNodeProperties: sourceNodeProperties,\n",
    "      targetNodeProperties: targetNodeProperties,\n",
    "      sourceNodeLabels: labels(source),\n",
    "      targetNodeLabels: labels(target),\n",
    "      relationshipType: type(rel)\n",
    "    })\n",
    "    \"\"\",\n",
    ")\n",
    "\n",
    "str(G)"
   ]
  },
  {
   "cell_type": "markdown",
   "metadata": {},
   "source": [
    "## Running Algorithms\n",
    "\n",
    "We can now run algorithms on the projected graph.\n",
    "This is done using the standard GDS Python Client API.\n",
    "There are many other tutorials covering some interesting things we can do at this step, so we will keep it rather brief here.\n",
    "\n",
    "We will simply run PageRank and FastRP on the graph.\n"
   ]
  },
  {
   "cell_type": "code",
   "execution_count": null,
   "metadata": {},
   "outputs": [],
   "source": [
    "print(\"Running PageRank ...\")\n",
    "pr_result = gds.pageRank.mutate(G, mutateProperty=\"pagerank\")\n",
    "print(f\"Compute millis: {pr_result['computeMillis']}\")\n",
    "print(f\"Node properties written: {pr_result['nodePropertiesWritten']}\")\n",
    "print(f\"Centrality distribution: {pr_result['centralityDistribution']}\")\n",
    "\n",
    "print(\"Running FastRP ...\")\n",
    "frp_result = gds.fastRP.mutate(\n",
    "    G,\n",
    "    mutateProperty=\"fastRP\",\n",
    "    embeddingDimension=8,\n",
    "    featureProperties=[\"pagerank\"],\n",
    "    propertyRatio=0.2,\n",
    "    nodeSelfInfluence=0.2,\n",
    ")\n",
    "print(f\"Compute millis: {frp_result['computeMillis']}\")\n",
    "# stream back the results\n",
    "gds.graph.nodeProperties.stream(G, [\"pagerank\", \"fastRP\"], separate_property_columns=True, db_node_properties=[\"name\"])"
   ]
  },
  {
   "cell_type": "markdown",
   "metadata": {},
   "source": [
    "## Writing back to Neo4j\n",
    "\n",
    "The GDS Session's in-memory graph was projected from data in our specified Neo4j database.\n",
    "Write back operations will thus persist the data back to the same Neo4j database.\n",
    "Let's write back the results of the PageRank and FastRP algorithms to the Neo4j database."
   ]
  },
  {
   "cell_type": "code",
   "execution_count": null,
   "metadata": {},
   "outputs": [],
   "source": [
    "# if this fails once with some error like \"unable to retrieve routing table\"\n",
    "# then run it again. this is a transient error with a stale server cache.\n",
    "gds.graph.nodeProperties.write(G, [\"pagerank\", \"fastRP\"])"
   ]
  },
  {
   "cell_type": "markdown",
   "metadata": {},
   "source": [
    "Of course, we can just use `.write` modes as well.\n",
    "Let's run Louvain in write mode to show:"
   ]
  },
  {
   "cell_type": "code",
   "execution_count": null,
   "metadata": {},
   "outputs": [],
   "source": [
    "gds.louvain.write(G, writeProperty=\"louvain\")"
   ]
  },
  {
   "cell_type": "markdown",
   "metadata": {},
   "source": [
    "We can now use the `gds.run_cypher()` method to query the updated graph.\n",
    "Note that the `run_cypher()` method will run the query on the Neo4j database."
   ]
  },
  {
   "cell_type": "code",
   "execution_count": null,
   "metadata": {},
   "outputs": [],
   "source": [
    "gds.run_cypher(\n",
    "    \"\"\"\n",
    "    MATCH (p:Person)\n",
    "    RETURN p.name, p.pagerank AS rank, p.louvain\n",
    "     ORDER BY rank DESC\n",
    "    \"\"\"\n",
    ")"
   ]
  },
  {
   "cell_type": "markdown",
   "metadata": {},
   "source": [
    "## Deleting the session\n",
    "\n",
    "Now that we have finished our analysis, we can delete the session.\n",
    "The results that we produced were written back to our Neo4j database, and will not be lost.\n",
    "If we computed additional things that we did not write back, those will be lost.\n",
    "\n",
    "Deleting the session will release all resources associated with it, and stop incurring costs."
   ]
  },
  {
   "cell_type": "code",
   "execution_count": null,
   "metadata": {
    "tags": [
     "teardown"
    ]
   },
   "outputs": [],
   "source": [
    "gds.delete()\n",
    "\n",
    "# or sessions.delete(session_name=\"people-and-fruits\")"
   ]
  },
  {
   "cell_type": "code",
   "execution_count": null,
   "metadata": {},
   "outputs": [],
   "source": [
    "# let's also make sure the deleted session is truly gone:\n",
    "sessions.list()"
   ]
  },
  {
   "cell_type": "code",
   "execution_count": null,
   "metadata": {
    "tags": [
     "teardown"
    ]
   },
   "outputs": [],
   "source": [
    "# Lastly, let's clean up the database\n",
    "gds.run_cypher(\"MATCH (n:Person|Fruit) DETACH DELETE n\")"
   ]
  },
  {
   "cell_type": "markdown",
   "metadata": {},
   "source": [
    "## Conclusion\n",
    "\n",
    "And we're done!\n",
    "We have created a GDS Session, projected a graph, run some algorithms, written back the results, and deleted the session.\n",
    "This is a simple example, but it shows the main steps of using GDS Sessions."
   ]
  }
 ],
 "metadata": {
  "language_info": {
   "name": "python"
  }
 },
 "nbformat": 4,
 "nbformat_minor": 4
}
