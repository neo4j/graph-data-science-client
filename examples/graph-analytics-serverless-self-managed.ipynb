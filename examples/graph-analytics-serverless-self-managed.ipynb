{
 "cells": [
  {
   "cell_type": "markdown",
   "metadata": {
    "tags": [
     "aura"
    ]
   },
   "source": [
    "# Graph Analytics Serverless for Self-Managed Neo4j DB"
   ]
  },
  {
   "cell_type": "markdown",
   "metadata": {
    "colab_type": "text"
   },
   "source": [
    "<a target=\"_blank\" href=\"https://colab.research.google.com/github/neo4j/graph-data-science-client/blob/main/examples/graph-analytics-serverless-self-managed.ipynb\">\n",
    "  <img src=\"https://colab.research.google.com/assets/colab-badge.svg\" alt=\"Open In Colab\"/>\n",
    "</a>"
   ]
  },
  {
   "cell_type": "markdown",
   "metadata": {},
   "source": [
    "This Jupyter notebook is hosted [here](https://github.com/neo4j/graph-data-science-client/blob/main/examples/graph-analytics-serverless-self-managed.ipynb) in the Neo4j Graph Data Science Client Github repository.\n",
    "\n",
    "The notebook shows how to use the `graphdatascience` Python library to create, manage, and use a GDS Session.\n",
    "\n",
    "We consider a graph of people and fruits, which we're using as a simple example to show how to connect your self-managed Neo4j database to a GDS Session, run algorithms, and eventually write back your analytical results to your Neo4j database. \n",
    "We will cover all management operations: creation, listing, and deletion.\n",
    "\n",
    "If you are using AuraDB, follow [this example](../graph-analytics-serverless)."
   ]
  },
  {
   "cell_type": "markdown",
   "metadata": {},
   "source": [
    "## Prerequisites\n",
    "\n",
    "This notebook requires having a Neo4j instance available and that the Graph Analytics Serverless [feature](https://neo4j.com/docs/aura/graph-analytics/#aura-gds-serverless) is enabled for your Neo4j Aura project. \n",
    "\n",
    "You also need to have the `graphdatascience` Python library installed, version `1.15` or later."
   ]
  },
  {
   "cell_type": "code",
   "execution_count": null,
   "metadata": {
    "tags": [
     "verify-version"
    ]
   },
   "outputs": [],
   "source": [
    "%pip install \"graphdatascience>=1.15\" python-dotenv"
   ]
  },
  {
   "cell_type": "code",
   "execution_count": null,
   "metadata": {},
   "outputs": [],
   "source": [
    "from dotenv import load_dotenv\n",
    "\n",
    "# This allows to load required secrets from `.env` file in local directory\n",
    "# This can include Aura API Credentials. If file does not exist this is a noop.\n",
    "load_dotenv(\".env\")"
   ]
  },
  {
   "cell_type": "markdown",
   "metadata": {},
   "source": [
    "## Aura API credentials\n",
    "\n",
    "The entry point for managing GDS Sessions is the `GdsSessions` object, which requires creating [Aura API credentials](https://neo4j.com/docs/aura/api/authentication)."
   ]
  },
  {
   "cell_type": "code",
   "execution_count": null,
   "metadata": {},
   "outputs": [],
   "source": [
    "import os\n",
    "\n",
    "from graphdatascience.session import AuraAPICredentials, GdsSessions\n",
    "\n",
    "# you can also use AuraAPICredentials.from_env() to load credentials from environment variables\n",
    "api_credentials = AuraAPICredentials(\n",
    "    client_id=os.environ[\"CLIENT_ID\"],\n",
    "    client_secret=os.environ[\"CLIENT_SECRET\"],\n",
    "    # If your account is a member of several project, you must also specify the project ID to use\n",
    "    project_id=os.environ.get(\"PROJECT_ID\", None),\n",
    ")\n",
    "\n",
    "sessions = GdsSessions(api_credentials=api_credentials)"
   ]
  },
  {
   "cell_type": "markdown",
   "metadata": {},
   "source": [
    "## Creating a new session\n",
    "\n",
    "A new session is created by calling `sessions.get_or_create()` with the following parameters:\n",
    "\n",
    "* A session name, which lets you reconnect to an existing session by calling `get_or_create` again.\n",
    "* The `DbmsConnectionInfo` containing the address, user name and password for an accessible self-manged Neo4j DBMS instance\n",
    "* The session memory. \n",
    "* The cloud location.\n",
    "* A time-to-live (TTL), which ensures that the session is automatically deleted after being unused for the set time, to avoid incurring costs.\n",
    "\n",
    "See the API reference [documentation](https://neo4j.com/docs/graph-data-science-client/current/api/sessions/gds_sessions/#graphdatascience.session.gds_sessions.GdsSessions.get_or_create) or the manual for more details on the parameters."
   ]
  },
  {
   "cell_type": "code",
   "execution_count": null,
   "metadata": {},
   "outputs": [],
   "source": [
    "from graphdatascience.session import AlgorithmCategory, CloudLocation, SessionMemory\n",
    "\n",
    "# Explicitly define the size of the session\n",
    "memory = SessionMemory.m_8GB\n",
    "\n",
    "# Estimate the memory needed for the GDS session\n",
    "memory = sessions.estimate(\n",
    "    node_count=20,\n",
    "    relationship_count=50,\n",
    "    algorithm_categories=[AlgorithmCategory.CENTRALITY, AlgorithmCategory.NODE_EMBEDDING],\n",
    ")\n",
    "\n",
    "print(f\"Estimated memory: {memory}\")\n",
    "\n",
    "# Specify your cloud location\n",
    "cloud_location = CloudLocation(\"gcp\", \"europe-west1\")\n",
    "\n",
    "# You can find available cloud locations by calling\n",
    "cloud_locations = sessions.available_cloud_locations()\n",
    "print(f\"Available locations: {cloud_locations}\")"
   ]
  },
  {
   "cell_type": "code",
   "execution_count": null,
   "metadata": {},
   "outputs": [],
   "source": [
    "import os\n",
    "from datetime import timedelta\n",
    "\n",
    "from graphdatascience.session import DbmsConnectionInfo\n",
    "\n",
    "# Identify the AuraDB instance\n",
    "# you can also use DbmsConnectionInfo.from_env() to load credentials from environment variables\n",
    "db_connection = DbmsConnectionInfo(\n",
    "    uri=os.environ[\"NEO4J_URI\"],\n",
    "    username=os.environ[\"NEO4J_USERNAME\"],\n",
    "    password=os.environ[\"NEO4J_PASSWORD\"],\n",
    ")\n",
    "\n",
    "# Create a GDS session!\n",
    "gds = sessions.get_or_create(\n",
    "    # give it a representative name\n",
    "    session_name=\"people-and-fruits-sm\",\n",
    "    memory=memory,\n",
    "    db_connection=db_connection,\n",
    "    ttl=timedelta(minutes=30),\n",
    "    cloud_location=cloud_location,\n",
    ")"
   ]
  },
  {
   "cell_type": "markdown",
   "metadata": {},
   "source": [
    "## Listing sessions\n",
    "\n",
    "You can use `sessions.list()` to see the details for each created session."
   ]
  },
  {
   "cell_type": "code",
   "execution_count": null,
   "metadata": {},
   "outputs": [],
   "source": [
    "from pandas import DataFrame\n",
    "\n",
    "gds_sessions = sessions.list()\n",
    "\n",
    "# for better visualization\n",
    "DataFrame(gds_sessions)"
   ]
  },
  {
   "cell_type": "markdown",
   "metadata": {},
   "source": [
    "## Adding a dataset\n",
    "\n",
    "We assume that the configured Neo4j database instance is empty.\n",
    "You will add the dataset using standard Cypher.\n",
    "\n",
    "In a more realistic scenario, this step is already done, and you would just connect to the existing database."
   ]
  },
  {
   "cell_type": "code",
   "execution_count": null,
   "metadata": {},
   "outputs": [],
   "source": [
    "data_query = \"\"\"\n",
    "  CREATE\n",
    "    (dan:Person {name: 'Dan',     age: 18, experience: 63, hipster: 0}),\n",
    "    (annie:Person {name: 'Annie', age: 12, experience: 5, hipster: 0}),\n",
    "    (matt:Person {name: 'Matt',   age: 22, experience: 42, hipster: 0}),\n",
    "    (jeff:Person {name: 'Jeff',   age: 51, experience: 12, hipster: 0}),\n",
    "    (brie:Person {name: 'Brie',   age: 31, experience: 6, hipster: 0}),\n",
    "    (elsa:Person {name: 'Elsa',   age: 65, experience: 23, hipster: 1}),\n",
    "    (john:Person {name: 'John',   age: 4, experience: 100, hipster: 0}),\n",
    "\n",
    "    (apple:Fruit {name: 'Apple',   tropical: 0, sourness: 0.3, sweetness: 0.6}),\n",
    "    (banana:Fruit {name: 'Banana', tropical: 1, sourness: 0.1, sweetness: 0.9}),\n",
    "    (mango:Fruit {name: 'Mango',   tropical: 1, sourness: 0.3, sweetness: 1.0}),\n",
    "    (plum:Fruit {name: 'Plum',     tropical: 0, sourness: 0.5, sweetness: 0.8})\n",
    "\n",
    "  CREATE\n",
    "    (dan)-[:LIKES]->(apple),\n",
    "    (annie)-[:LIKES]->(banana),\n",
    "    (matt)-[:LIKES]->(mango),\n",
    "    (jeff)-[:LIKES]->(mango),\n",
    "    (brie)-[:LIKES]->(banana),\n",
    "    (elsa)-[:LIKES]->(plum),\n",
    "    (john)-[:LIKES]->(plum),\n",
    "\n",
    "    (dan)-[:KNOWS]->(annie),\n",
    "    (dan)-[:KNOWS]->(matt),\n",
    "    (annie)-[:KNOWS]->(matt),\n",
    "    (annie)-[:KNOWS]->(jeff),\n",
    "    (annie)-[:KNOWS]->(brie),\n",
    "    (matt)-[:KNOWS]->(brie),\n",
    "    (brie)-[:KNOWS]->(elsa),\n",
    "    (brie)-[:KNOWS]->(jeff),\n",
    "    (john)-[:KNOWS]->(jeff);\n",
    "\"\"\"\n",
    "\n",
    "# making sure the database is actually empty\n",
    "assert gds.run_cypher(\"MATCH (n) RETURN count(n)\").squeeze() == 0, \"Database is not empty!\"\n",
    "\n",
    "# let's now write our graph!\n",
    "gds.run_cypher(data_query)\n",
    "\n",
    "gds.run_cypher(\"MATCH (n) RETURN count(n) AS nodeCount\")"
   ]
  },
  {
   "cell_type": "markdown",
   "metadata": {},
   "source": [
    "## Projecting Graphs\n",
    "\n",
    "Now that you have imported a graph to the database, you can project it into our GDS Session.\n",
    "You do that by using the `gds.graph.project()` endpoint.\n",
    "\n",
    "The remote projection query that you are using selects all `Person` nodes and their `LIKES` relationships, and all `Fruit` nodes and their `LIKES` relationships.\n",
    "Additionally, node properties are projected for illustrative purposes.\n",
    "You can use these node properties as input to algorithms, although it is note done in this notebook."
   ]
  },
  {
   "cell_type": "code",
   "execution_count": null,
   "metadata": {},
   "outputs": [],
   "source": [
    "G, result = gds.graph.project(\n",
    "    \"people-and-fruits\",\n",
    "    \"\"\"\n",
    "    CALL {\n",
    "        MATCH (p1:Person)\n",
    "        OPTIONAL MATCH (p1)-[r:KNOWS]->(p2:Person)\n",
    "        RETURN\n",
    "          p1 AS source, r AS rel, p2 AS target,\n",
    "          p1 {.age, .experience, .hipster } AS sourceNodeProperties,\n",
    "          p2 {.age, .experience, .hipster } AS targetNodeProperties\n",
    "        UNION\n",
    "        MATCH (f:Fruit)\n",
    "        OPTIONAL MATCH (f)<-[r:LIKES]-(p:Person)\n",
    "        RETURN\n",
    "          p AS source, r AS rel, f AS target,\n",
    "          p {.age, .experience, .hipster } AS sourceNodeProperties,\n",
    "          f { .tropical, .sourness, .sweetness } AS targetNodeProperties\n",
    "    }\n",
    "    RETURN gds.graph.project.remote(source, target, {\n",
    "      sourceNodeProperties: sourceNodeProperties,\n",
    "      targetNodeProperties: targetNodeProperties,\n",
    "      sourceNodeLabels: labels(source),\n",
    "      targetNodeLabels: labels(target),\n",
    "      relationshipType: type(rel)\n",
    "    })\n",
    "    \"\"\",\n",
    ")\n",
    "\n",
    "str(G)"
   ]
  },
  {
   "cell_type": "markdown",
   "metadata": {},
   "source": [
    "## Running Algorithms\n",
    "\n",
    "You can run algorithms on the constructed graph using the standard GDS Python Client API. See the other tutorials for more examples.\n"
   ]
  },
  {
   "cell_type": "code",
   "execution_count": null,
   "metadata": {},
   "outputs": [],
   "source": [
    "print(\"Running PageRank ...\")\n",
    "pr_result = gds.pageRank.mutate(G, mutateProperty=\"pagerank\")\n",
    "print(f\"Compute millis: {pr_result['computeMillis']}\")\n",
    "print(f\"Node properties written: {pr_result['nodePropertiesWritten']}\")\n",
    "print(f\"Centrality distribution: {pr_result['centralityDistribution']}\")\n",
    "\n",
    "print(\"Running FastRP ...\")\n",
    "frp_result = gds.fastRP.mutate(\n",
    "    G,\n",
    "    mutateProperty=\"fastRP\",\n",
    "    embeddingDimension=8,\n",
    "    featureProperties=[\"pagerank\"],\n",
    "    propertyRatio=0.2,\n",
    "    nodeSelfInfluence=0.2,\n",
    ")\n",
    "print(f\"Compute millis: {frp_result['computeMillis']}\")\n",
    "# stream back the results\n",
    "gds.graph.nodeProperties.stream(G, [\"pagerank\", \"fastRP\"], separate_property_columns=True, db_node_properties=[\"name\"])"
   ]
  },
  {
   "cell_type": "markdown",
   "metadata": {},
   "source": [
    "## Writing back to Neo4j\n",
    "\n",
    "The GDS Session's in-memory graph was projected from data in our specified Neo4j database.\n",
    "Write back operations will thus persist the data back to the same Neo4j database.\n",
    "Let's write back the results of the PageRank and FastRP algorithms to the Neo4j database."
   ]
  },
  {
   "cell_type": "code",
   "execution_count": null,
   "metadata": {},
   "outputs": [],
   "source": [
    "# if this fails once with some error like \"unable to retrieve routing table\"\n",
    "# then run it again. this is a transient error with a stale server cache.\n",
    "gds.graph.nodeProperties.write(G, [\"pagerank\", \"fastRP\"])"
   ]
  },
  {
   "cell_type": "markdown",
   "metadata": {},
   "source": [
    "Of course, you can just use `.write` modes as well.\n",
    "Let's run Louvain in write mode to show:"
   ]
  },
  {
   "cell_type": "code",
   "execution_count": null,
   "metadata": {},
   "outputs": [],
   "source": [
    "gds.louvain.write(G, writeProperty=\"louvain\")"
   ]
  },
  {
   "cell_type": "markdown",
   "metadata": {},
   "source": [
    "You can now use the `gds.run_cypher()` method to query the updated graph.\n",
    "Note that the `run_cypher()` method will run the query on the Neo4j database."
   ]
  },
  {
   "cell_type": "code",
   "execution_count": null,
   "metadata": {},
   "outputs": [],
   "source": [
    "gds.run_cypher(\n",
    "    \"\"\"\n",
    "    MATCH (p:Person)\n",
    "    RETURN p.name, p.pagerank AS rank, p.louvain\n",
    "     ORDER BY rank DESC\n",
    "    \"\"\"\n",
    ")"
   ]
  },
  {
   "cell_type": "markdown",
   "metadata": {},
   "source": [
    "## Deleting the session\n",
    "\n",
    "Now that you have finished the analysis, you can delete the session.\n",
    "The results that you produced were written back to our Neo4j database, and will not be lost.\n",
    "If you computed additional things that you did not write back, those will be lost.\n",
    "\n",
    "Deleting the session will release all resources associated with it, and stop incurring costs."
   ]
  },
  {
   "cell_type": "code",
   "execution_count": null,
   "metadata": {
    "tags": [
     "teardown"
    ]
   },
   "outputs": [],
   "source": [
    "# or gds.delete()\n",
    "sessions.delete(session_name=\"people-and-fruits-sm\")"
   ]
  },
  {
   "cell_type": "code",
   "execution_count": null,
   "metadata": {},
   "outputs": [],
   "source": [
    "# let's also make sure the deleted session is truly gone:\n",
    "sessions.list()"
   ]
  },
  {
   "cell_type": "code",
   "execution_count": null,
   "metadata": {
    "tags": [
     "teardown"
    ]
   },
   "outputs": [],
   "source": [
    "# Lastly, let's clean up the database\n",
    "gds.run_cypher(\"MATCH (n:Person|Fruit) DETACH DELETE n\")"
   ]
  }
 ],
 "metadata": {
  "language_info": {
   "name": "python"
  }
 },
 "nbformat": 4,
 "nbformat_minor": 4
}
